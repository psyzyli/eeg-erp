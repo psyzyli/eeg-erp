{
 "cells": [
  {
   "cell_type": "code",
   "execution_count": 76,
   "metadata": {
    "ExecuteTime": {
     "end_time": "2020-06-09T07:49:34.804714Z",
     "start_time": "2020-06-09T07:49:34.661796Z"
    }
   },
   "outputs": [],
   "source": [
    "import numpy as np\n",
    "import pandas as pd\n",
    "path=r'F:\\Desktop\\jupyter\\TFAresult\\oddball\\CPZ3_7_0.2_0.5.xls'\n",
    "fre_col=['dataset', 'channel', 'epoch', 'xmax',\n",
    "               'ymax', 'cmax','xmin', 'ymin', 'cmin','cmean']\n",
    "f=pd.read_excel(r'{}'.format(path),header=None,names=fre_col)\n",
    "res = f[\"dataset\"].str.split('sp_filter ica butt sel_chan chanlocs',expand= True)\n",
    "f[['conditions', 'sub']]=res\n",
    "cod=f[\"conditions\"].str.split('bl avg cwt bl reref ar-amp ep_',expand= True)\n",
    "f[['number','condition']]=cod\n",
    "f=f[['condition', 'sub', 'channel', 'xmax',\n",
    "               'ymax', 'cmax','xmin', 'ymin', 'cmin','cmean']]\n",
    "f=f.astype({'condition':'int'})"
   ]
  },
  {
   "cell_type": "code",
   "execution_count": 88,
   "metadata": {
    "ExecuteTime": {
     "end_time": "2020-06-09T08:01:53.807519Z",
     "start_time": "2020-06-09T08:01:53.766542Z"
    }
   },
   "outputs": [],
   "source": [
    "f=pd.read_csv(r'{}makeup.csv'.format(path), encoding='utf_8_sig')\n",
    "value='cmean'\n",
    "channel='PZ'\n",
    "h=f[f['channel']==channel]\n",
    "a=h[h['condition']==52]\n",
    "b=h[h['condition']==53]\n",
    "c=h[h['condition']==54]\n",
    "d=h[h['condition']==55]\n",
    "e=h[h['condition']==56]\n",
    "g=h[h['condition']==57]\n",
    "df = pd.DataFrame(list(zip(a[value],b[value],c[value],d[value],e[value],g[value],)),\n",
    "                  columns=['图片目标','图片非目标','组合目标',\n",
    "                               '组合非目标','文字目标','文字非目标'],\n",
    "                index=e['sub'])\n",
    "df['图片差异波']=df['图片目标']-df['图片非目标']\n",
    "df['组合差异波']=df['组合目标']-df['组合非目标']\n",
    "df['文字差异波']=df['文字目标']-df['文字非目标']\n",
    "df.to_csv(r'{}{}_{}.csv'.format(path,value,channel), encoding='utf_8_sig')"
   ]
  },
  {
   "cell_type": "code",
   "execution_count": 92,
   "metadata": {
    "ExecuteTime": {
     "end_time": "2020-06-09T08:02:58.531404Z",
     "start_time": "2020-06-09T08:02:58.246568Z"
    }
   },
   "outputs": [],
   "source": [
    "import numpy as np\n",
    "import pandas as pd\n",
    "path=r'F:\\Desktop\\jupyter\\TFAresult\\oddball\\PZ3_7_0.2_0.5.xls'\n",
    "fre_col=['dataset', 'channel', 'epoch', 'xmax',\n",
    "               'ymax', 'cmax','xmin', 'ymin', 'cmin','cmean']\n",
    "f=pd.read_excel(r'{}'.format(path),header=None,names=fre_col)\n",
    "res = f[\"dataset\"].str.split('sp_filter ica butt sel_chan chanlocs',expand= True)\n",
    "f[['conditions', 'sub']]=res\n",
    "cod=f[\"conditions\"].str.split('bl avg cwt bl reref ar-amp ep_',expand= True)\n",
    "f[['number','condition']]=cod\n",
    "f=f[['condition', 'sub', 'channel', 'xmax',\n",
    "               'ymax', 'cmax','xmin', 'ymin', 'cmin','cmean']]\n",
    "f=f.astype({'condition':'int'})\n",
    "value='cmean'\n",
    "channel='PZ'\n",
    "h=f[f['channel']==channel]\n",
    "a=h[h['condition']==52]\n",
    "b=h[h['condition']==53]\n",
    "c=h[h['condition']==54]\n",
    "d=h[h['condition']==55]\n",
    "e=h[h['condition']==56]\n",
    "g=h[h['condition']==57]\n",
    "df = pd.DataFrame(list(zip(a[value],b[value],c[value],d[value],e[value],g[value],)),\n",
    "                  columns=['图片目标','图片非目标','组合目标',\n",
    "                               '组合非目标','文字目标','文字非目标'],\n",
    "                index=e['sub'])\n",
    "df['图片差异波']=df['图片目标']-df['图片非目标']\n",
    "df['组合差异波']=df['组合目标']-df['组合非目标']\n",
    "df['文字差异波']=df['文字目标']-df['文字非目标']\n",
    "df.to_csv(r'{}{}_121{}.csv'.format(path,value,channel), encoding='utf_8_sig')"
   ]
  },
  {
   "cell_type": "code",
   "execution_count": null,
   "metadata": {},
   "outputs": [],
   "source": []
  }
 ],
 "metadata": {
  "kernelspec": {
   "display_name": "Python 3",
   "language": "python",
   "name": "python3"
  },
  "language_info": {
   "codemirror_mode": {
    "name": "ipython",
    "version": 3
   },
   "file_extension": ".py",
   "mimetype": "text/x-python",
   "name": "python",
   "nbconvert_exporter": "python",
   "pygments_lexer": "ipython3",
   "version": "3.6.6"
  }
 },
 "nbformat": 4,
 "nbformat_minor": 2
}
