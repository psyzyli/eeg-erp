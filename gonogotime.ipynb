{
 "cells": [
  {
   "cell_type": "code",
   "execution_count": 1,
   "metadata": {
    "ExecuteTime": {
     "end_time": "2021-03-30T02:55:34.300442Z",
     "start_time": "2021-03-30T02:55:33.090941Z"
    }
   },
   "outputs": [],
   "source": [
    "import numpy as np\n",
    "import pandas as pd\n",
    "#读取\n",
    "path=r'F:/desktop/resultend/time/gonogo/P1/0.155_0.195.xls'\n",
    "fre_col=['dataset', 'channel', 'epoch', 'xmax',\n",
    "               'ymax','xmin', 'ymin','ymean', 'x1','y1','x2','y2']\n",
    "f=pd.read_excel(r'{}'.format(path),header=None,names=fre_col)\n"
   ]
  },
  {
   "cell_type": "code",
   "execution_count": 2,
   "metadata": {
    "ExecuteTime": {
     "end_time": "2021-03-30T02:55:37.433867Z",
     "start_time": "2021-03-30T02:55:37.408907Z"
    }
   },
   "outputs": [],
   "source": [
    "res = f[\"dataset\"].str.split('sp_filter ica butt sel_chan chanlocs ',expand= True)\n",
    "f[['conditions', 'sub']]=res\n",
    "cod=f[\"conditions\"].str.split('avg bl reref ar-amp ep_',expand= True)\n",
    "f[['number','condition']]=cod\n",
    "f=f[['condition', 'sub',   'channel', 'epoch', 'xmax',\n",
    "               'ymax','xmin', 'ymin','ymean']]\n",
    "f=f.astype({'condition':'int'})"
   ]
  },
  {
   "cell_type": "code",
   "execution_count": 14,
   "metadata": {
    "ExecuteTime": {
     "end_time": "2021-03-30T11:58:29.206662Z",
     "start_time": "2021-03-30T11:58:29.177431Z"
    }
   },
   "outputs": [],
   "source": [
    "value='xmax'\n",
    "channel='C4'\n",
    "h=f[f['channel']==channel]\n",
    "a=h[h['condition']==52]\n",
    "b=h[h['condition']==53]\n",
    "c=h[h['condition']==54]\n",
    "d=h[h['condition']==55]\n",
    "e=h[h['condition']==56]\n",
    "g=h[h['condition']==57]\n",
    "df = pd.DataFrame(list(zip(a[value],b[value],c[value],d[value],e[value],g[value],)),\n",
    "                  columns=['图片目标','图片非目标','组合目标',\n",
    "                               '组合非目标','文字目标','文字非目标'],\n",
    "                index=e['sub'])\n",
    "df['图片差异波']=df['图片目标']-df['图片非目标']\n",
    "df['组合差异波']=df['组合目标']-df['组合非目标']\n",
    "df['文字差异波']=df['文字目标']-df['文字非目标']\n",
    "df = df.rename(columns=lambda x: channel+x)\n",
    "df.to_csv(r'{}{}_{}.csv'.format(path,value,channel), encoding='utf_8_sig')"
   ]
  },
  {
   "cell_type": "code",
   "execution_count": null,
   "metadata": {},
   "outputs": [],
   "source": []
  }
 ],
 "metadata": {
  "kernelspec": {
   "display_name": "Python 3",
   "language": "python",
   "name": "python3"
  },
  "language_info": {
   "codemirror_mode": {
    "name": "ipython",
    "version": 3
   },
   "file_extension": ".py",
   "mimetype": "text/x-python",
   "name": "python",
   "nbconvert_exporter": "python",
   "pygments_lexer": "ipython3",
   "version": "3.8.2"
  },
  "latex_envs": {
   "LaTeX_envs_menu_present": true,
   "autoclose": false,
   "autocomplete": true,
   "bibliofile": "biblio.bib",
   "cite_by": "apalike",
   "current_citInitial": 1,
   "eqLabelWithNumbers": true,
   "eqNumInitial": 1,
   "hotkeys": {
    "equation": "Ctrl-E",
    "itemize": "Ctrl-I"
   },
   "labels_anchors": false,
   "latex_user_defs": false,
   "report_style_numbering": false,
   "user_envs_cfg": false
  }
 },
 "nbformat": 4,
 "nbformat_minor": 4
}
