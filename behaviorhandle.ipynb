{
 "cells": [
  {
   "cell_type": "code",
   "execution_count": 1,
   "metadata": {
    "ExecuteTime": {
     "end_time": "2020-06-10T06:25:47.158311Z",
     "start_time": "2020-06-10T06:25:46.546820Z"
    }
   },
   "outputs": [
    {
     "name": "stdout",
     "output_type": "stream",
     "text": [
      "sub16go 1\n",
      "sub16go 2\n",
      "sub16go 3\n",
      "sub17go 1\n",
      "sub17go 2\n",
      "sub17go 3\n",
      "sub18go 1\n",
      "sub18go 2\n",
      "sub18go 3\n",
      "sub19go 1\n",
      "sub19go 2\n",
      "sub19go 3\n",
      "sub1go 1\n",
      "sub1go 2\n",
      "sub1go 3\n",
      "sub22go 1\n",
      "sub22go 2\n",
      "sub22go 3\n",
      "sub23go 1\n",
      "sub23go 2\n",
      "sub23go 3\n",
      "sub24go 1\n",
      "sub24go 2\n",
      "sub24go 3\n",
      "sub26go 1\n",
      "sub26go 2\n",
      "sub26go 3\n",
      "sub27 1\n",
      "sub27 2\n",
      "sub27 3\n",
      "sub29 1\n",
      "sub29 2\n",
      "sub29 3\n",
      "sub30 1\n",
      "sub30 2\n",
      "sub30 3\n",
      "sub31 1\n",
      "sub31 2\n",
      "sub31 3\n",
      "sub33 1\n",
      "sub33 2\n",
      "sub33 3\n",
      "sub34 1\n",
      "sub34 2\n",
      "sub34 3\n",
      "sub35 1\n",
      "sub35 2\n",
      "sub35 3\n",
      "sub36 1\n",
      "sub36 2\n",
      "sub36 3\n",
      "sub40 1\n",
      "sub40 2\n",
      "sub40 3\n",
      "sub41 1\n",
      "sub41 2\n",
      "sub41 3\n",
      "sub42 1\n",
      "sub42 2\n",
      "sub42 3\n",
      "sub43 1\n",
      "sub43 2\n",
      "sub43 3\n",
      "sub44 1\n",
      "sub44 2\n",
      "sub44 3\n",
      "sub4go 1\n",
      "sub4go 2\n",
      "sub4go 3\n",
      "sub9go 1\n",
      "sub9go 2\n",
      "sub9go 3\n"
     ]
    }
   ],
   "source": [
    "import os\n",
    "import re\n",
    "import numpy as np\n",
    "import pandas as pd\n",
    "filePath =r'F:\\Desktop\\jupyter\\TFAresult\\gonogobehavior'\n",
    "\n",
    "fielname=os.listdir(filePath)\n",
    "resultlist=[]\n",
    "sublist=[]\n",
    "for sub in fielname:\n",
    "    b=re.findall(\"[1-9]\\d*\",sub)\n",
    "    sublist.extend(b)\n",
    "for t in fielname:\n",
    "    for i in range(1,4):\n",
    "        with open(filePath+ r\"\\{}\\{}.txt\".format(t,i),\"r\", encoding='UTF-8') as f:    #设置文件对象\n",
    "            str = f.read()    #可以是随便对文件的操作\n",
    "            print(t,i)\n",
    "            pattern = re.compile(r'：([1-9]\\d*.\\d*|0.\\d*[1-9]\\d*)')\n",
    "            #print(pattern.findall(str))\n",
    "            a=pattern.findall(str)\n",
    "            a=[float(item) for item in a]\n",
    "            resultlist.extend(a)\n",
    "resultlist=np.array(resultlist).reshape(-1,9)\n",
    "resultlist=pd.DataFrame(resultlist,index=sublist)\n",
    "resultlist.to_csv(filePath+r'\\{}'.format('gonogonature.csv'))\n"
   ]
  },
  {
   "cell_type": "code",
   "execution_count": null,
   "metadata": {},
   "outputs": [],
   "source": []
  }
 ],
 "metadata": {
  "kernelspec": {
   "display_name": "Python 3",
   "language": "python",
   "name": "python3"
  },
  "language_info": {
   "codemirror_mode": {
    "name": "ipython",
    "version": 3
   },
   "file_extension": ".py",
   "mimetype": "text/x-python",
   "name": "python",
   "nbconvert_exporter": "python",
   "pygments_lexer": "ipython3",
   "version": "3.6.6"
  }
 },
 "nbformat": 4,
 "nbformat_minor": 2
}
