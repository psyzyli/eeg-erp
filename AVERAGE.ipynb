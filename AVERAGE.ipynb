{
 "cells": [
  {
   "cell_type": "code",
   "execution_count": 4,
   "metadata": {
    "ExecuteTime": {
     "end_time": "2021-03-29T03:03:59.291852Z",
     "start_time": "2021-03-29T03:03:59.260876Z"
    }
   },
   "outputs": [],
   "source": [
    "import pandas as pd\n",
    "import numpy as np\n",
    "import os\n",
    "path=r'F:\\desktop\\resultend\\time\\oddball\\P1\\P1all.csv'\n",
    "f=pd.read_csv(r'{}'.format(path))"
   ]
  },
  {
   "cell_type": "code",
   "execution_count": 5,
   "metadata": {
    "ExecuteTime": {
     "end_time": "2021-03-29T03:04:07.620417Z",
     "start_time": "2021-03-29T03:04:07.597217Z"
    },
    "scrolled": false
   },
   "outputs": [
    {
     "data": {
      "text/plain": [
       "Index(['sub', 'FZ图片目标', 'FZ图片非目标', 'FZ组合目标', 'FZ组合非目标', 'FZ文字目标', 'FZ文字非目标',\n",
       "       'FZ图片差异波', 'FZ组合差异波', 'FZ文字差异波', 'F3图片目标', 'F3图片非目标', 'F3组合目标',\n",
       "       'F3组合非目标', 'F3文字目标', 'F3文字非目标', 'F3图片差异波', 'F3组合差异波', 'F3文字差异波',\n",
       "       'F4图片目标', 'F4图片非目标', 'F4组合目标', 'F4组合非目标', 'F4文字目标', 'F4文字非目标',\n",
       "       'F4图片差异波', 'F4组合差异波', 'F4文字差异波', 'CZ图片目标', 'CZ图片非目标', 'CZ组合目标',\n",
       "       'CZ组合非目标', 'CZ文字目标', 'CZ文字非目标', 'CZ图片差异波', 'CZ组合差异波', 'CZ文字差异波',\n",
       "       'C3图片目标', 'C3图片非目标', 'C3组合目标', 'C3组合非目标', 'C3文字目标', 'C3文字非目标',\n",
       "       'C3图片差异波', 'C3组合差异波', 'C3文字差异波', 'C4图片目标', 'C4图片非目标', 'C4组合目标',\n",
       "       'C4组合非目标', 'C4文字目标', 'C4文字非目标', 'C4图片差异波', 'C4组合差异波', 'C4文字差异波'],\n",
       "      dtype='object')"
      ]
     },
     "execution_count": 5,
     "metadata": {},
     "output_type": "execute_result"
    }
   ],
   "source": [
    "f.columns"
   ]
  },
  {
   "cell_type": "code",
   "execution_count": null,
   "metadata": {},
   "outputs": [],
   "source": [
    "f[\"图片目标\"]="
   ]
  }
 ],
 "metadata": {
  "kernelspec": {
   "display_name": "Python 3",
   "language": "python",
   "name": "python3"
  },
  "language_info": {
   "codemirror_mode": {
    "name": "ipython",
    "version": 3
   },
   "file_extension": ".py",
   "mimetype": "text/x-python",
   "name": "python",
   "nbconvert_exporter": "python",
   "pygments_lexer": "ipython3",
   "version": "3.8.2"
  },
  "latex_envs": {
   "LaTeX_envs_menu_present": true,
   "autoclose": false,
   "autocomplete": true,
   "bibliofile": "biblio.bib",
   "cite_by": "apalike",
   "current_citInitial": 1,
   "eqLabelWithNumbers": true,
   "eqNumInitial": 1,
   "hotkeys": {
    "equation": "Ctrl-E",
    "itemize": "Ctrl-I"
   },
   "labels_anchors": false,
   "latex_user_defs": false,
   "report_style_numbering": false,
   "user_envs_cfg": false
  }
 },
 "nbformat": 4,
 "nbformat_minor": 4
}
