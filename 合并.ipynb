{
 "cells": [
  {
   "cell_type": "code",
   "execution_count": 1,
   "metadata": {
    "ExecuteTime": {
     "end_time": "2020-06-17T12:35:34.473968Z",
     "start_time": "2020-06-17T12:35:34.122756Z"
    }
   },
   "outputs": [],
   "source": [
    "import os\n",
    "import pandas as pd\n",
    "\n",
    "path = r'F:\\Desktop\\gonogobeta'   #设置csv所在文件夹\n",
    "files = os.listdir(path)  #获取文件夹下所有文件名g\n",
    "\n",
    "df1 = pd.read_csv(path + '/' + files[0],encoding='utf_8_sig')  #读取首个csv文件，保存到df1中\n",
    "\n",
    "for file in files[1:]:     \n",
    "    df2 = pd.read_csv(path +'/' +  file,encoding='utf_8_sig',)  #打开csv文件，注意编码问题，保存到df2中\n",
    "    df1 = pd.concat([df1,df2],axis=1,)  #将df2数据与df1合并\n",
    "df1.to_csv(path + '/' + 'total.csv',encoding='utf_8_sig') #将结果保存为新的csv文件"
   ]
  },
  {
   "cell_type": "code",
   "execution_count": null,
   "metadata": {},
   "outputs": [],
   "source": []
  }
 ],
 "metadata": {
  "kernelspec": {
   "display_name": "Python 3",
   "language": "python",
   "name": "python3"
  },
  "language_info": {
   "codemirror_mode": {
    "name": "ipython",
    "version": 3
   },
   "file_extension": ".py",
   "mimetype": "text/x-python",
   "name": "python",
   "nbconvert_exporter": "python",
   "pygments_lexer": "ipython3",
   "version": "3.8.2"
  }
 },
 "nbformat": 4,
 "nbformat_minor": 4
}
