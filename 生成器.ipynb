{
 "cells": [
  {
   "cell_type": "code",
   "execution_count": 9,
   "metadata": {
    "ExecuteTime": {
     "end_time": "2021-04-03T03:16:01.287888Z",
     "start_time": "2021-04-03T03:16:01.195230Z"
    },
    "scrolled": true
   },
   "outputs": [
    {
     "name": "stdout",
     "output_type": "stream",
     "text": [
      "xlswrite('F:\\desktop\\resultend\\tfa\\oddball\\miu\\52_8_13HZ.xls',lw_table)\n",
      "xlswrite('F:\\desktop\\resultend\\tfa\\oddball\\miu\\53_8_13HZ.xls',lw_table)\n",
      "xlswrite('F:\\desktop\\resultend\\tfa\\oddball\\miu\\54_8_13HZ.xls',lw_table)\n",
      "xlswrite('F:\\desktop\\resultend\\tfa\\oddball\\miu\\55_8_13HZ.xls',lw_table)\n",
      "xlswrite('F:\\desktop\\resultend\\tfa\\oddball\\miu\\56_8_13HZ.xls',lw_table)\n",
      "xlswrite('F:\\desktop\\resultend\\tfa\\oddball\\miu\\57_8_13HZ.xls',lw_table)\n"
     ]
    }
   ],
   "source": [
    "for i in range(52,58):\n",
    "    print(r\"xlswrite('F:\\desktop\\resultend\\tfa\\gonogo\\miu\\{}_8_13HZ.xls',lw_table)\".format(i))"
   ]
  },
  {
   "cell_type": "code",
   "execution_count": 8,
   "metadata": {
    "ExecuteTime": {
     "end_time": "2021-04-03T02:56:47.010691Z",
     "start_time": "2021-04-03T02:56:46.942362Z"
    }
   },
   "outputs": [
    {
     "name": "stdout",
     "output_type": "stream",
     "text": [
      "xlswrite('F:\\desktop\\resultend\\tfa\\oddball\\beta\\52_18_26HZ.xls',lw_table)\n",
      "xlswrite('F:\\desktop\\resultend\\tfa\\oddball\\beta\\53_18_26HZ.xls',lw_table)\n",
      "xlswrite('F:\\desktop\\resultend\\tfa\\oddball\\beta\\54_18_26HZ.xls',lw_table)\n",
      "xlswrite('F:\\desktop\\resultend\\tfa\\oddball\\beta\\55_18_26HZ.xls',lw_table)\n",
      "xlswrite('F:\\desktop\\resultend\\tfa\\oddball\\beta\\56_18_26HZ.xls',lw_table)\n",
      "xlswrite('F:\\desktop\\resultend\\tfa\\oddball\\beta\\57_18_26HZ.xls',lw_table)\n"
     ]
    }
   ],
   "source": [
    "for i in range(52,58):\n",
    "    print(r\"xlswrite('F:\\desktop\\resultend\\tfa\\oddball\\beta\\{}_18_26HZ.xls',lw_table)\".format(i))"
   ]
  },
  {
   "cell_type": "code",
   "execution_count": 20,
   "metadata": {
    "ExecuteTime": {
     "end_time": "2021-04-03T05:03:27.137523Z",
     "start_time": "2021-04-03T05:03:27.079203Z"
    }
   },
   "outputs": [
    {
     "name": "stdout",
     "output_type": "stream",
     "text": [
      "(74, 10)\n",
      "(74, 10)\n",
      "(74, 10)\n",
      "(99, 10)\n",
      "(74, 10)\n",
      "(74, 10)\n"
     ]
    }
   ],
   "source": [
    "import os\n",
    "import pandas as pd\n",
    "fi_dir=r\"F:\\desktop\\resultend\\tfa\\gonogo\\miu\"\n",
    "file_list=os.listdir(fi_dir)\n",
    "for file in file_list:\n",
    "    file_path=os.path.join(fi_dir,file)\n",
    "    dataframe=pd.read_excel(file_path)\n",
    "    print(dataframe.shape)"
   ]
  },
  {
   "cell_type": "code",
   "execution_count": 6,
   "metadata": {
    "ExecuteTime": {
     "end_time": "2021-04-01T12:11:24.339207Z",
     "start_time": "2021-04-01T12:11:23.642662Z"
    }
   },
   "outputs": [
    {
     "name": "stdout",
     "output_type": "stream",
     "text": [
      "<class 'pandas.core.frame.DataFrame'>\n"
     ]
    }
   ],
   "source": [
    "#合并有问题\n",
    "import os\n",
    "import pandas as pd\n",
    "\n",
    "#文件路径\n",
    "fi_dir=r\"F:\\desktop\\resultend\\tfa\\gonogo\\theta\"\n",
    "#构建新表格\n",
    "new_file=fi_dir+r'\\theta_4_8all.xls'\n",
    "df=pd.read_excel(new_file)\n",
    "print(type(df))\n",
    "#找到所有文件名\n",
    "file_list=os.listdir(fi_dir)\n",
    "for file in file_list:\n",
    "    file_path=os.path.join(fi_dir,file)\n",
    "    dataframe=pd.read_excel(file_path)\n",
    "    df=pd.concat([df,dataframe])\n",
    "df.to_excel(new_file,index=False)"
   ]
  },
  {
   "cell_type": "code",
   "execution_count": 11,
   "metadata": {
    "ExecuteTime": {
     "end_time": "2021-04-03T04:12:41.496006Z",
     "start_time": "2021-04-03T04:12:41.202879Z"
    }
   },
   "outputs": [
    {
     "data": {
      "text/html": [
       "<div>\n",
       "<style scoped>\n",
       "    .dataframe tbody tr th:only-of-type {\n",
       "        vertical-align: middle;\n",
       "    }\n",
       "\n",
       "    .dataframe tbody tr th {\n",
       "        vertical-align: top;\n",
       "    }\n",
       "\n",
       "    .dataframe thead th {\n",
       "        text-align: right;\n",
       "    }\n",
       "</style>\n",
       "<table border=\"1\" class=\"dataframe\">\n",
       "  <thead>\n",
       "    <tr style=\"text-align: right;\">\n",
       "      <th></th>\n",
       "      <th>1</th>\n",
       "      <th>1.1</th>\n",
       "      <th>1.2</th>\n",
       "      <th>1.3</th>\n",
       "      <th>1.4</th>\n",
       "      <th>1.5</th>\n",
       "      <th>1.6</th>\n",
       "      <th>1.7</th>\n",
       "      <th>1.8</th>\n",
       "      <th>1.9</th>\n",
       "    </tr>\n",
       "  </thead>\n",
       "  <tbody>\n",
       "  </tbody>\n",
       "</table>\n",
       "</div>"
      ],
      "text/plain": [
       "Empty DataFrame\n",
       "Columns: [1, 1.1, 1.2, 1.3, 1.4, 1.5, 1.6, 1.7, 1.8, 1.9]\n",
       "Index: []"
      ]
     },
     "execution_count": 11,
     "metadata": {},
     "output_type": "execute_result"
    }
   ],
   "source": [
    "dataframe"
   ]
  },
  {
   "cell_type": "code",
   "execution_count": null,
   "metadata": {},
   "outputs": [],
   "source": []
  }
 ],
 "metadata": {
  "kernelspec": {
   "display_name": "Python 3",
   "language": "python",
   "name": "python3"
  },
  "language_info": {
   "codemirror_mode": {
    "name": "ipython",
    "version": 3
   },
   "file_extension": ".py",
   "mimetype": "text/x-python",
   "name": "python",
   "nbconvert_exporter": "python",
   "pygments_lexer": "ipython3",
   "version": "3.8.2"
  },
  "latex_envs": {
   "LaTeX_envs_menu_present": true,
   "autoclose": false,
   "autocomplete": true,
   "bibliofile": "biblio.bib",
   "cite_by": "apalike",
   "current_citInitial": 1,
   "eqLabelWithNumbers": true,
   "eqNumInitial": 1,
   "hotkeys": {
    "equation": "Ctrl-E",
    "itemize": "Ctrl-I"
   },
   "labels_anchors": false,
   "latex_user_defs": false,
   "report_style_numbering": false,
   "user_envs_cfg": false
  }
 },
 "nbformat": 4,
 "nbformat_minor": 4
}
